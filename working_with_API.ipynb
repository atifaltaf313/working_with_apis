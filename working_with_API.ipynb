{
 "cells": [
  {
   "cell_type": "markdown",
   "metadata": {},
   "source": [
    "#### Import Libraries"
   ]
  },
  {
   "cell_type": "code",
   "execution_count": 1,
   "metadata": {},
   "outputs": [],
   "source": [
    "import pandas as pd\n",
    "import requests"
   ]
  },
  {
   "cell_type": "markdown",
   "metadata": {},
   "source": [
    "### making request to get data through API"
   ]
  },
  {
   "cell_type": "code",
   "execution_count": 6,
   "metadata": {},
   "outputs": [],
   "source": [
    "response = requests.get('https://api.themoviedb.org/3/movie/top_rated?api_key=c980d1b9502d56c8912ae5150a465da1&language=en-US&page=1')"
   ]
  },
  {
   "cell_type": "code",
   "execution_count": 7,
   "metadata": {},
   "outputs": [],
   "source": [
    "temp_df = pd.DataFrame(response.json()['results'])[['id','title','overview','release_date','popularity','vote_average','vote_count']]"
   ]
  },
  {
   "cell_type": "code",
   "execution_count": 9,
   "metadata": {},
   "outputs": [
    {
     "data": {
      "text/html": [
       "<div>\n",
       "<style scoped>\n",
       "    .dataframe tbody tr th:only-of-type {\n",
       "        vertical-align: middle;\n",
       "    }\n",
       "\n",
       "    .dataframe tbody tr th {\n",
       "        vertical-align: top;\n",
       "    }\n",
       "\n",
       "    .dataframe thead th {\n",
       "        text-align: right;\n",
       "    }\n",
       "</style>\n",
       "<table border=\"1\" class=\"dataframe\">\n",
       "  <thead>\n",
       "    <tr style=\"text-align: right;\">\n",
       "      <th></th>\n",
       "      <th>id</th>\n",
       "      <th>title</th>\n",
       "      <th>overview</th>\n",
       "      <th>release_date</th>\n",
       "      <th>popularity</th>\n",
       "      <th>vote_average</th>\n",
       "      <th>vote_count</th>\n",
       "    </tr>\n",
       "  </thead>\n",
       "  <tbody>\n",
       "    <tr>\n",
       "      <th>0</th>\n",
       "      <td>238</td>\n",
       "      <td>The Godfather</td>\n",
       "      <td>Spanning the years 1945 to 1955, a chronicle o...</td>\n",
       "      <td>1972-03-14</td>\n",
       "      <td>87.259</td>\n",
       "      <td>8.7</td>\n",
       "      <td>16607</td>\n",
       "    </tr>\n",
       "    <tr>\n",
       "      <th>1</th>\n",
       "      <td>278</td>\n",
       "      <td>The Shawshank Redemption</td>\n",
       "      <td>Framed in the 1940s for the double murder of h...</td>\n",
       "      <td>1994-09-23</td>\n",
       "      <td>74.450</td>\n",
       "      <td>8.7</td>\n",
       "      <td>22327</td>\n",
       "    </tr>\n",
       "    <tr>\n",
       "      <th>2</th>\n",
       "      <td>240</td>\n",
       "      <td>The Godfather Part II</td>\n",
       "      <td>In the continuing saga of the Corleone crime f...</td>\n",
       "      <td>1974-12-20</td>\n",
       "      <td>53.295</td>\n",
       "      <td>8.6</td>\n",
       "      <td>10043</td>\n",
       "    </tr>\n",
       "    <tr>\n",
       "      <th>3</th>\n",
       "      <td>19404</td>\n",
       "      <td>Dilwale Dulhania Le Jayenge</td>\n",
       "      <td>Raj is a rich, carefree, happy-go-lucky second...</td>\n",
       "      <td>1995-10-19</td>\n",
       "      <td>39.465</td>\n",
       "      <td>8.6</td>\n",
       "      <td>3875</td>\n",
       "    </tr>\n",
       "    <tr>\n",
       "      <th>4</th>\n",
       "      <td>424</td>\n",
       "      <td>Schindler's List</td>\n",
       "      <td>The true story of how businessman Oskar Schind...</td>\n",
       "      <td>1993-12-15</td>\n",
       "      <td>51.786</td>\n",
       "      <td>8.6</td>\n",
       "      <td>13238</td>\n",
       "    </tr>\n",
       "  </tbody>\n",
       "</table>\n",
       "</div>"
      ],
      "text/plain": [
       "      id                        title  \\\n",
       "0    238                The Godfather   \n",
       "1    278     The Shawshank Redemption   \n",
       "2    240        The Godfather Part II   \n",
       "3  19404  Dilwale Dulhania Le Jayenge   \n",
       "4    424             Schindler's List   \n",
       "\n",
       "                                            overview release_date  popularity  \\\n",
       "0  Spanning the years 1945 to 1955, a chronicle o...   1972-03-14      87.259   \n",
       "1  Framed in the 1940s for the double murder of h...   1994-09-23      74.450   \n",
       "2  In the continuing saga of the Corleone crime f...   1974-12-20      53.295   \n",
       "3  Raj is a rich, carefree, happy-go-lucky second...   1995-10-19      39.465   \n",
       "4  The true story of how businessman Oskar Schind...   1993-12-15      51.786   \n",
       "\n",
       "   vote_average  vote_count  \n",
       "0           8.7       16607  \n",
       "1           8.7       22327  \n",
       "2           8.6       10043  \n",
       "3           8.6        3875  \n",
       "4           8.6       13238  "
      ]
     },
     "execution_count": 9,
     "metadata": {},
     "output_type": "execute_result"
    }
   ],
   "source": [
    "temp_df.head()"
   ]
  },
  {
   "cell_type": "markdown",
   "metadata": {},
   "source": [
    "#### Making a empty data frame to store data wich we will fatch"
   ]
  },
  {
   "cell_type": "code",
   "execution_count": 10,
   "metadata": {},
   "outputs": [],
   "source": [
    "df = pd.DataFrame()"
   ]
  },
  {
   "cell_type": "code",
   "execution_count": 23,
   "metadata": {},
   "outputs": [],
   "source": [
    "import warnings\n",
    "warnings.filterwarnings(\"ignore\")\n",
    "for i in range(1,429):\n",
    "    response = requests.get('https://api.themoviedb.org/3/movie/top_rated?api_key=8265bd1679663a7ea12ac168da84d2e8&language=en-US&page={}'.format(i))\n",
    "    temp_df = pd.DataFrame(response.json()['results'])[['id','title','overview','release_date','popularity','vote_average','vote_count']]\n",
    "    df = df.append(temp_df,ignore_index=True)"
   ]
  },
  {
   "cell_type": "code",
   "execution_count": 24,
   "metadata": {},
   "outputs": [
    {
     "data": {
      "text/plain": [
       "(29340, 7)"
      ]
     },
     "execution_count": 24,
     "metadata": {},
     "output_type": "execute_result"
    }
   ],
   "source": [
    "df.shape"
   ]
  },
  {
   "cell_type": "code",
   "execution_count": 25,
   "metadata": {},
   "outputs": [
    {
     "data": {
      "text/html": [
       "<div>\n",
       "<style scoped>\n",
       "    .dataframe tbody tr th:only-of-type {\n",
       "        vertical-align: middle;\n",
       "    }\n",
       "\n",
       "    .dataframe tbody tr th {\n",
       "        vertical-align: top;\n",
       "    }\n",
       "\n",
       "    .dataframe thead th {\n",
       "        text-align: right;\n",
       "    }\n",
       "</style>\n",
       "<table border=\"1\" class=\"dataframe\">\n",
       "  <thead>\n",
       "    <tr style=\"text-align: right;\">\n",
       "      <th></th>\n",
       "      <th>id</th>\n",
       "      <th>title</th>\n",
       "      <th>overview</th>\n",
       "      <th>release_date</th>\n",
       "      <th>popularity</th>\n",
       "      <th>vote_average</th>\n",
       "      <th>vote_count</th>\n",
       "    </tr>\n",
       "  </thead>\n",
       "  <tbody>\n",
       "    <tr>\n",
       "      <th>0</th>\n",
       "      <td>238</td>\n",
       "      <td>The Godfather</td>\n",
       "      <td>Spanning the years 1945 to 1955, a chronicle o...</td>\n",
       "      <td>1972-03-14</td>\n",
       "      <td>87.259</td>\n",
       "      <td>8.7</td>\n",
       "      <td>16607</td>\n",
       "    </tr>\n",
       "    <tr>\n",
       "      <th>1</th>\n",
       "      <td>278</td>\n",
       "      <td>The Shawshank Redemption</td>\n",
       "      <td>Framed in the 1940s for the double murder of h...</td>\n",
       "      <td>1994-09-23</td>\n",
       "      <td>74.450</td>\n",
       "      <td>8.7</td>\n",
       "      <td>22327</td>\n",
       "    </tr>\n",
       "    <tr>\n",
       "      <th>2</th>\n",
       "      <td>240</td>\n",
       "      <td>The Godfather Part II</td>\n",
       "      <td>In the continuing saga of the Corleone crime f...</td>\n",
       "      <td>1974-12-20</td>\n",
       "      <td>53.295</td>\n",
       "      <td>8.6</td>\n",
       "      <td>10043</td>\n",
       "    </tr>\n",
       "    <tr>\n",
       "      <th>3</th>\n",
       "      <td>19404</td>\n",
       "      <td>Dilwale Dulhania Le Jayenge</td>\n",
       "      <td>Raj is a rich, carefree, happy-go-lucky second...</td>\n",
       "      <td>1995-10-19</td>\n",
       "      <td>39.465</td>\n",
       "      <td>8.6</td>\n",
       "      <td>3875</td>\n",
       "    </tr>\n",
       "    <tr>\n",
       "      <th>4</th>\n",
       "      <td>424</td>\n",
       "      <td>Schindler's List</td>\n",
       "      <td>The true story of how businessman Oskar Schind...</td>\n",
       "      <td>1993-12-15</td>\n",
       "      <td>51.786</td>\n",
       "      <td>8.6</td>\n",
       "      <td>13238</td>\n",
       "    </tr>\n",
       "    <tr>\n",
       "      <th>...</th>\n",
       "      <td>...</td>\n",
       "      <td>...</td>\n",
       "      <td>...</td>\n",
       "      <td>...</td>\n",
       "      <td>...</td>\n",
       "      <td>...</td>\n",
       "      <td>...</td>\n",
       "    </tr>\n",
       "    <tr>\n",
       "      <th>29335</th>\n",
       "      <td>16406</td>\n",
       "      <td>Dick</td>\n",
       "      <td>Two high school girls wander off during a clas...</td>\n",
       "      <td>1999-08-04</td>\n",
       "      <td>9.962</td>\n",
       "      <td>5.8</td>\n",
       "      <td>207</td>\n",
       "    </tr>\n",
       "    <tr>\n",
       "      <th>29336</th>\n",
       "      <td>9767</td>\n",
       "      <td>The Break-Up</td>\n",
       "      <td>Pushed to the breaking-up point after their la...</td>\n",
       "      <td>2006-06-01</td>\n",
       "      <td>23.522</td>\n",
       "      <td>5.8</td>\n",
       "      <td>2324</td>\n",
       "    </tr>\n",
       "    <tr>\n",
       "      <th>29337</th>\n",
       "      <td>4327</td>\n",
       "      <td>Charlie's Angels</td>\n",
       "      <td>The captivating crime-fighting trio who are ma...</td>\n",
       "      <td>2000-11-02</td>\n",
       "      <td>26.534</td>\n",
       "      <td>5.8</td>\n",
       "      <td>3591</td>\n",
       "    </tr>\n",
       "    <tr>\n",
       "      <th>29338</th>\n",
       "      <td>737568</td>\n",
       "      <td>The Doorman</td>\n",
       "      <td>A former Marine turned doorman at a luxury New...</td>\n",
       "      <td>2020-10-01</td>\n",
       "      <td>65.196</td>\n",
       "      <td>5.8</td>\n",
       "      <td>325</td>\n",
       "    </tr>\n",
       "    <tr>\n",
       "      <th>29339</th>\n",
       "      <td>615469</td>\n",
       "      <td>Spiderhead</td>\n",
       "      <td>A prisoner in a state-of-the-art penitentiary ...</td>\n",
       "      <td>2022-06-15</td>\n",
       "      <td>265.268</td>\n",
       "      <td>5.8</td>\n",
       "      <td>963</td>\n",
       "    </tr>\n",
       "  </tbody>\n",
       "</table>\n",
       "<p>29340 rows × 7 columns</p>\n",
       "</div>"
      ],
      "text/plain": [
       "           id                        title  \\\n",
       "0         238                The Godfather   \n",
       "1         278     The Shawshank Redemption   \n",
       "2         240        The Godfather Part II   \n",
       "3       19404  Dilwale Dulhania Le Jayenge   \n",
       "4         424             Schindler's List   \n",
       "...       ...                          ...   \n",
       "29335   16406                         Dick   \n",
       "29336    9767                 The Break-Up   \n",
       "29337    4327             Charlie's Angels   \n",
       "29338  737568                  The Doorman   \n",
       "29339  615469                   Spiderhead   \n",
       "\n",
       "                                                overview release_date  \\\n",
       "0      Spanning the years 1945 to 1955, a chronicle o...   1972-03-14   \n",
       "1      Framed in the 1940s for the double murder of h...   1994-09-23   \n",
       "2      In the continuing saga of the Corleone crime f...   1974-12-20   \n",
       "3      Raj is a rich, carefree, happy-go-lucky second...   1995-10-19   \n",
       "4      The true story of how businessman Oskar Schind...   1993-12-15   \n",
       "...                                                  ...          ...   \n",
       "29335  Two high school girls wander off during a clas...   1999-08-04   \n",
       "29336  Pushed to the breaking-up point after their la...   2006-06-01   \n",
       "29337  The captivating crime-fighting trio who are ma...   2000-11-02   \n",
       "29338  A former Marine turned doorman at a luxury New...   2020-10-01   \n",
       "29339  A prisoner in a state-of-the-art penitentiary ...   2022-06-15   \n",
       "\n",
       "       popularity  vote_average  vote_count  \n",
       "0          87.259           8.7       16607  \n",
       "1          74.450           8.7       22327  \n",
       "2          53.295           8.6       10043  \n",
       "3          39.465           8.6        3875  \n",
       "4          51.786           8.6       13238  \n",
       "...           ...           ...         ...  \n",
       "29335       9.962           5.8         207  \n",
       "29336      23.522           5.8        2324  \n",
       "29337      26.534           5.8        3591  \n",
       "29338      65.196           5.8         325  \n",
       "29339     265.268           5.8         963  \n",
       "\n",
       "[29340 rows x 7 columns]"
      ]
     },
     "execution_count": 25,
     "metadata": {},
     "output_type": "execute_result"
    }
   ],
   "source": [
    "df"
   ]
  },
  {
   "cell_type": "code",
   "execution_count": 26,
   "metadata": {},
   "outputs": [],
   "source": [
    "df.to_csv('movies.csv')"
   ]
  }
 ],
 "metadata": {
  "kernelspec": {
   "display_name": "Python 3.9.12 ('base')",
   "language": "python",
   "name": "python3"
  },
  "language_info": {
   "codemirror_mode": {
    "name": "ipython",
    "version": 3
   },
   "file_extension": ".py",
   "mimetype": "text/x-python",
   "name": "python",
   "nbconvert_exporter": "python",
   "pygments_lexer": "ipython3",
   "version": "3.9.12"
  },
  "orig_nbformat": 4,
  "vscode": {
   "interpreter": {
    "hash": "691579fc89a0c5ccf5b095ea5eef71ba2f272fb741df2e4ecf37a2f4421c9dc8"
   }
  }
 },
 "nbformat": 4,
 "nbformat_minor": 2
}
